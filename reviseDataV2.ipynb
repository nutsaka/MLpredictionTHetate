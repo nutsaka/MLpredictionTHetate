{
 "metadata": {
  "language_info": {
   "codemirror_mode": {
    "name": "ipython",
    "version": 3
   },
   "file_extension": ".py",
   "mimetype": "text/x-python",
   "name": "python",
   "nbconvert_exporter": "python",
   "pygments_lexer": "ipython3",
   "version": "3.7.4-final"
  },
  "orig_nbformat": 2,
  "kernelspec": {
   "name": "python3",
   "display_name": "Python 3",
   "language": "python"
  }
 },
 "nbformat": 4,
 "nbformat_minor": 2,
 "cells": [
  {
   "cell_type": "code",
   "execution_count": 76,
   "metadata": {},
   "outputs": [],
   "source": [
    "import numpy as np\n",
    "import pandas as pd"
   ]
  },
  {
   "cell_type": "code",
   "execution_count": 77,
   "metadata": {},
   "outputs": [],
   "source": [
    "df = pd.read_excel(\"D:\\\\2. Project Python\\\\MLpython\\\\DataSet\\\\Ddproperty_Edit_final.xlsx\", encoding = \"utf8\",usecols= ['index', 'Price', 'Sqm','PSM','Floor_Level','Built_Year', 'Bedroom','Bathroom', 'Sub_district', 'District', 'City'])\n",
    "# C:\\Users\\Nutcl\\PycharmProjects\\pythonProject2\\finaldataBaania.xlsx\n"
   ]
  },
  {
   "cell_type": "code",
   "execution_count": 78,
   "metadata": {},
   "outputs": [
    {
     "output_type": "stream",
     "name": "stdout",
     "text": [
      "Index(['index', 'Price', 'Sqm', 'PSM', 'Floor_Level', 'Built_Year', 'Bedroom',\n       'Bathroom', 'Sub_district', 'District', 'City'],\n      dtype='object')\n"
     ]
    },
    {
     "output_type": "execute_result",
     "data": {
      "text/plain": [
       "<bound method NDFrame.head of        index       Price  Sqm       PSM  Floor_Level  Built_Year  Bedroom  \\\n",
       "0          1     1540000   30   51333.0            5        2019      1.0   \n",
       "1          2   2,500,000   32   78125.0            6        2022      1.0   \n",
       "2          3  14,720,000   52  283077.0           12        2012      1.0   \n",
       "3          4   1,490,000   30   49667.0            8        2013      0.5   \n",
       "4          5   5,600,000   40  140000.0           12        2013      1.0   \n",
       "...      ...         ...  ...       ...          ...         ...      ...   \n",
       "20064  20065   4,290,000   49   87551.0           12        1999      1.0   \n",
       "20065  20066   3,590,000   50   72525.0           21        2013      1.0   \n",
       "20066  20067   6,200,000   46  135667.0           28        2012      1.0   \n",
       "20067  20068   1,890,000   26   72692.0            7        2017      1.0   \n",
       "20068  20069   2,600,000   30   86667.0            3        2014      1.0   \n",
       "\n",
       "       Bathroom                                Sub_district      District  \\\n",
       "0           1.0                                Khlong Tanon       Sai Mai   \n",
       "1           1.0                                   Talat Plu     Thon Buri   \n",
       "2           1.0                                   Khong Tan   Khlong Toei   \n",
       "3           1.0                                 Huai Khwang   Huai Khwang   \n",
       "4           1.0                                 Phra Kanong   Khlong Toei   \n",
       "...         ...                                         ...           ...   \n",
       "20064       1.0   33 ถนนจันทน์ แขวงช่องนนทรี เขตยานนาวา กทม        Sathon   \n",
       "20065       1.0                         Ratchadaphisek Road     Chatuchak   \n",
       "20066       1.0                                  Samsen Nai    Phaya Thai   \n",
       "20067       1.0  ถนนแจ้งวัฒนะ แขวงตลาดบางเขน เขตหลักสี่ กทม        Lak Si   \n",
       "20068       1.0                             ถนน จรัญนิทวงศ์      Bang Bon   \n",
       "\n",
       "           City  \n",
       "0       Bangkok  \n",
       "1       Bangkok  \n",
       "2       Bangkok  \n",
       "3       Bangkok  \n",
       "4       Bangkok  \n",
       "...         ...  \n",
       "20064   Bangkok  \n",
       "20065   Bangkok  \n",
       "20066   Bangkok  \n",
       "20067   Bangkok  \n",
       "20068   Bangkok  \n",
       "\n",
       "[20069 rows x 11 columns]>"
      ]
     },
     "metadata": {},
     "execution_count": 78
    }
   ],
   "source": [
    "print(df.columns)\n",
    "df.head\n",
    "\n",
    "# print(df.isnull().sum())\n",
    "# print(df['Bedroom'].describe())"
   ]
  },
  {
   "cell_type": "code",
   "execution_count": 79,
   "metadata": {},
   "outputs": [],
   "source": [
    "#transfer district data (all of district in bangkok)\n",
    "df[\"City\"] = df[\"City\"].str.replace('Bangkok','10',regex=True)\n",
    "\n",
    "df[\"District\"] = df[\"District\"].str.strip().replace(dict(zip(\n",
    "    [\"Bang Bon\",\"Bang Kapi\",\"Bang Khae\",\"Bang Khen\",\"Bang Kho Laem\",\"Bang Khun Thian\",\"Bang Na\",\"Bang Phlat\",\"Bang Rak\",\"Bang Sue\",\"Bangkok Noi\",\"Bangkok Yai\",\"Bueng Kum\",\"Chatuchak\",\"Chom Thong\",\"Din Daeng\",\"Don Mueang\",\"Huai Khwang\",\"Khan Na Yao\",\"Khlong San\",\"Khlong Toei\",\"Lak Si\",\"Lat Krabang\",\"Lat Phrao\",\"Min Buri\",\n",
    "\"Pathum Wan\",\"Phasi Charoen\",\"Phaya Thai\",\"Phra Khanong\",\"Prawet\",\"Rat Burana\",\"Ratchathewi\",\"Sai Mai\",\"Sathon\",\"Suan Luang\",\"Taling Chan\",\"Thawi Watthana\",\"Thon Buri\",\"Thung Khru\",\"Wang Thonglang\",\"Watthana\",\"Yan Nawa\"] , \n",
    "\n",
    "[\"1050\",\"1006\",\"1040\",\"1005\",\"1031\",\"1021\",\"1047\",\"1025\",\"1004\",\"1029\",\"1020\",\"1016\",\"1027\",\"1030\",\"1035\",\"1026\",\"1036\",\"1017\",\"1043\",\"1018\",\"1033\",\"1041\",\"1011\",\"1038\",\"1010\",\n",
    "\"1007\",\"1022\",\"1014\",\"1009\",\"1032\",\"1024\",\"1037\",\"1042\",\"1028\",\"1034\",\"1019\",\"1048\",\"1015\",\"1049\",\"1045\",\"1039\",\"1012\"])),regex=True)\n",
    "\n",
    "df[\"Sub_district\"] = df[\"Sub_district\"].str.strip().replace(dict(zip(\n",
    "    [\"Rama 2 Road\",\"Anusaowari\",\"Arun Amarin\",\"Ban Chang Lo\",\"Bang Bamru\",\"Bang Bon\",\"Bang Chak\",\"Bang Kae Nua\",\"Bang Kapi\",\"Bang Khae\",\"Bang Kho Laem\",\"Bang Khun Non\",\"Bang Khun Sri\",\"Bang Klo\",\"Bang Lam Phu Lang\",\"Bang Na\",\"Bang O\",\"Bang Phlat\",\"Bang Pong Pang\",\"Bang Sue\",\"Bang Wa\",\"Bang Waek\",\"Bang Yi Khan\",\"Bang Yi Rua\",\"Bangko\",\"Bangkok\",\"Bangmot\",\"Bangpakok\",\"Bukkalo\",\"Chan Kasem\",\"Chatuchak\",\"Chaturathit Road\",\"Chom Thong\",\"Chong Nonsi\",\"Chorake Bua\",\"Dao Khanong\",\"Din Daeng\",\"Hi Runruche\",\"Hua Mak\",\"Huai Khwang\",\"Jom Phon\",\"Khan Na Yao\",\"Khlong Chan\",\"Khlong Chaokhun Sing\",\"Khlong Kum\",\"Khlong Sam Prawet\",\"Khlong San\",\"Khlong Tan Nua\",\"Khlong Tanon\",\"Khlong Toei\",\"Khlong Ton Sai\",\"Khlongtoei Nua\",\"Khong Tan\",\"Ladprao Road\",\"Lam Pla Tiew\",\"Lat Krabang\",\"Lat Phrao\",\"Lat Yao\",\"Lumphini\",\"Maha Phrutharam\",\"Makkasan\",\"Min Buri\",\"Narathiwas Ratchanakarin Road\",\"Nong Bon\",\"Nuan Chan\",\"Pak Khlong Phasi Charoen\",\"Pathum Wan\",\"Phaholyothin 21 Road\",\"Phlapphla\",\"Phra Kanong\",\"Phra Kanong Nua\",\"Pracharat Sai 1 Road\",\n",
    "\"Prawet\",\"Ram Inthra\",\"Rat Burana\",\"Ratchadaphisek Road\",\"Rong Muang\",\"Sala Thammasop\",\"Samae Dam\",\"Samlae\",\"Samsen Nai\",\"Samsen Nok\",\"Sanam Bin\",\"Saphan Song\",\"Sena Nikhom\",\n",
    "\"Si Khan\",\"Si Phraya\",\"Silom\",\"Soi Phongwet Anuson 1\",\"Soi Sukhumvit 49 Sukhumvit Road\",\"Somdet Chao Phraya\",\"Suan Luang\",\"Sukhumvit 21 Road\",\"Sukhumvit Road\",\"Sukhumvit Road\",\n",
    "\"Suriyawong\",\"Talat Bang Khen\",\"Talat Plu\",\"Taling Chan\",\"Tha Rang\",\"Thanon Phaya Thai\",\"Thanon Phetchaburi\",\"Thung Khru\",\"Thung Maha Mek\",\"Thung Phaya Thai\",\"Thung Song Hong\",\n",
    "\"Thung Wat Don\",\"Wang Mai\",\"Wang Thonglang\",\"Wat Arun\",\"Wat Prayakrai\",\"Wat Tha Pra\",\"Wong Sawang\",\"Yan Nawa\",\"ประเสริฐมนูกิจ\",\"1 Petchaburi Road\",\n",
    "\"123 South Sathorn Road\",\"123 ถนนรัชดาภิเษก แขวงคลองเตย เขตคลองเตย กทม\",\"125 ซวิภาวดีรังสิต 54 แขวงตลาดบางเขน เขตหลักสี่ กทม\",\"131 ถนนเพชรเกษม แขวงวัดท่าพระ เขตบางกอกใหญ่ กทม\",\"1498 ถนนสุขุมวิท แขวงพระโขนง เขตคลองเตย กทม\",\"166 Silom Road\",\"199 ซอยสุขุมวิท 8 ถนนสุขุมวิท แขวง/เขตคลองเตย กทม\",\"26 Ratchadaphisek\",\"28 ซอยรัชดาภิเษก 19 ถนนรัชดาภิเษก แขวง/เขตดินแดง กทม\",\"31 ซอยสุขุมวิท 11 แขวงคลองเตยเหนือ เขตวัฒนา กทม\",\"33 ถนนจันทน์ แขวงช่องนนทรี เขตยานนาวา กทม\",\n",
    "\"333 อโศกดินแดง\",\"38 Ratchadapisek Road\",\"39 ซอยสุขุมวิท 24 แขวงคลองตัน เขตคลองเตย กทม\",\"395 หมู่ 9 ถนนกุดคล้า ตำบลพญาเย็น ปากช่อง นครราชสีมา\",\n",
    "\"43/1 BodindachaRamkhamhaeng\",\"495 ถนนพระราม 3 แขวงบางคอแหลม เขตบางคอแหลม\",\"5 KrungThonBuri Road\",\"6 Kampangphet\",\"626 AsokeDindaeng Road\",\n",
    "\"70/10 Ratchadaphisek Road\",\"8 ซอยสุขุมวิท 39 ถนนสุขุมวิท คลองเตยเหนือ วัฒนา กทม\",\"94 ซอยจุฬาฯ 9 แขวงวังใหม่ เขตปทุมวัน กทม\",\"Jom Phon\",\n",
    "\"Ladprao Ladprao 48\",\"ซอยไผ่สิงห์โต ถนนพระราม 4 แขวง/เขตคลองเตย กทม\",\"ซอยทองหล่อ 2 ถนนสุขุมวิท แขวงคลองตันเหนือ เขตวัฒนา กทม\",\"ซอยบางนาตราด 32 ถนนบางนาตราด แขวงบางนา เขตบางนา กทม\",\"ซอยสุขุมวิท 11 แขวงคลองตันเหนือ เขตวัฒนา กทม\",\"ซอยสุขุมวิท 64 แขวงบางจาก เขตพระโขนง กรุงเทพมหานคร\",\"ถนน เพชรเกษม 98\",\"ถนน จรัญนิทวงศ์\",\"ถนน ฉลองกรุง\",\n",
    "\"ถนน พระราม 4\",\"ถนน รัชดาภิเษก\",\"ถนน สาทร\",\"ถนนเสรีไท แขวงคลองจั่น เขตบางกะปิ กทม\",\"ถนนแจ้งวัฒนะ แขวงตลาดบางเขน เขตหลักสี่ กทม\",\"ถนนดินแดง แขวงดินแดง เขตดินแดง กรุงเทพมหานคร\",\n",
    "\"ถนนนราธิวาส แขวงทุ่งมหาเมฆ เขตสาทร กทม\",\"ถนนนราธิวาสราช แขวงทุ่งมหาเมฆ เขตสาทร กทม\",\"ประชาอุทิศ ประชาอุทิศ\",\"พลโยธิน พลโยธิน 18\",\"รุ่งเรือง ถนนรัชดาภิเษก  ซอย20\",\"ลาดพร้าว 130 Ladprao\",],\n",
    "\n",
    "[\"102107\",\"100502\",\"102009\",\"101504\",\"102503\",\"105001\",\"104603\",\"104002\",\"101702\",\"104001\",\"101803\",\"102006\",\"102007\",\"103103\",\"101803\",\"104701\",\"102502\",\n",
    "\"102501\",\"101204\",\"102901\",\"102201\",\"102207\",\"102504\",\"101503\",\"103103\",\"102402\",\"104901\",\"102402\",\"101504\",\"103801\",\"103801\",\"102601\",\"103504\",\"101203\",\n",
    "\"103802\",\"103504\",\"102601\",\"101502\",\"100608\",\"101701\",\"103801\",\"104301\",\"100601\",\"101804\",\"102701\",\"101103\",\"101802\",\"103902\",\"104203\",\"103301\",\"101804\",\n",
    "\"103901\",\"103302\",\"103801\",\"101104\",\"101101\",\"103801\",\"103001\",\"100704\",\"100401\",\"103704\",\"101001\",\"102802\",\"103202\",\"102701\",\"102209\",\"100703\",\"103001\",\n",
    "\"104501\",\"103303\",\"103903\",\"102502\",\"103201\",\"100508\",\"102701\",\"103801\",\"100701\",\"104802\",\"102107\",\"0\",\"101401\",\"101704\",\"103602\",\"104401\",\"103802\",\"103602\",\n",
    "\"100405\",\"100402\",\"0\",\"103303\",\"101801\",\"103401\",\"100703\",\"103303\",\"103303\",\"100403\",\"104102\",\"101505\",\"101902\",\"100508\",\"103702\",\"103703\",\"104902\",\"102803\",\"103701\",\n",
    "\"104101\",\"102801\",\"100702\",\"104501\",\"101601\",\"103102\",\"101602\",\"102901\",\"102802\",\"104501\",\"103703\",\"102802\",\"103301\",\"103602\",\"102402\",\"103301\",\"100402\",\"103301\",\"102601\",\n",
    "\"102601\",\"103301\",\"102802\",\"103301\",\"102601\",\"103301\",\"0\",\"104501\",\"103101\",\"0\",\"0\",\"103301\",\"103301\",\"103301\",\"100703\",\"0\",\"103801\",\"103301\",\"103301\",\"\",\"103301\",\n",
    "\"103301\",\"0\",\"0\",\"0\",\"103301\",\"102601\",\"103301\",\"0\",\"0\",\"0\",\"0\",\"0\",\"0\",\"0\",\"0\",\"103801\",])),regex=True)"
   ]
  },
  {
   "cell_type": "code",
   "execution_count": 80,
   "metadata": {},
   "outputs": [
    {
     "output_type": "stream",
     "name": "stdout",
     "text": [
      "0\n"
     ]
    }
   ],
   "source": [
    "# print(df['type_old'],df['City'],df[\"District\"])\n",
    "print(df[\"Sub_district\"].isnull().sum())"
   ]
  },
  {
   "cell_type": "code",
   "execution_count": 81,
   "metadata": {},
   "outputs": [
    {
     "output_type": "execute_result",
     "data": {
      "text/plain": [
       "<bound method DataFrame.info of        index       Price  Sqm       PSM  Floor_Level  Built_Year  Bedroom  \\\n",
       "0          1     1540000   30   51333.0            5        2019      1.0   \n",
       "1          2   2,500,000   32   78125.0            6        2022      1.0   \n",
       "2          3  14,720,000   52  283077.0           12        2012      1.0   \n",
       "3          4   1,490,000   30   49667.0            8        2013      0.5   \n",
       "4          5   5,600,000   40  140000.0           12        2013      1.0   \n",
       "...      ...         ...  ...       ...          ...         ...      ...   \n",
       "20064  20065   4,290,000   49   87551.0           12        1999      1.0   \n",
       "20065  20066   3,590,000   50   72525.0           21        2013      1.0   \n",
       "20066  20067   6,200,000   46  135667.0           28        2012      1.0   \n",
       "20067  20068   1,890,000   26   72692.0            7        2017      1.0   \n",
       "20068  20069   2,600,000   30   86667.0            3        2014      1.0   \n",
       "\n",
       "       Bathroom Sub_district District City  \n",
       "0           1.0       104203     1042   10  \n",
       "1           1.0       101505     1015   10  \n",
       "2           1.0       103302     1033   10  \n",
       "3           1.0       101701     1017   10  \n",
       "4           1.0       103303     1033   10  \n",
       "...         ...          ...      ...  ...  \n",
       "20064       1.0       102802     1028   10  \n",
       "20065       1.0       103801     1030   10  \n",
       "20066       1.0       101401     1014   10  \n",
       "20067       1.0            0     1041   10  \n",
       "20068       1.0            0     1050   10  \n",
       "\n",
       "[20069 rows x 11 columns]>"
      ]
     },
     "metadata": {},
     "execution_count": 81
    }
   ],
   "source": [
    "df.info"
   ]
  },
  {
   "cell_type": "code",
   "execution_count": 82,
   "metadata": {},
   "outputs": [
    {
     "output_type": "execute_result",
     "data": {
      "text/plain": [
       "index           False\n",
       "Price            True\n",
       "Sqm             False\n",
       "PSM              True\n",
       "Floor_Level     False\n",
       "Built_Year      False\n",
       "Bedroom          True\n",
       "Bathroom         True\n",
       "Sub_district    False\n",
       "District        False\n",
       "City            False\n",
       "dtype: bool"
      ]
     },
     "metadata": {},
     "execution_count": 82
    }
   ],
   "source": [
    "df.isna().any()"
   ]
  },
  {
   "cell_type": "code",
   "execution_count": 83,
   "metadata": {},
   "outputs": [
    {
     "output_type": "execute_result",
     "data": {
      "text/plain": [
       "index             0\n",
       "Price           125\n",
       "Sqm               0\n",
       "PSM             125\n",
       "Floor_Level       0\n",
       "Built_Year        0\n",
       "Bedroom         105\n",
       "Bathroom        212\n",
       "Sub_district      0\n",
       "District          0\n",
       "City              0\n",
       "dtype: int64"
      ]
     },
     "metadata": {},
     "execution_count": 83
    }
   ],
   "source": [
    "df.isnull().sum()"
   ]
  },
  {
   "cell_type": "code",
   "execution_count": 84,
   "metadata": {},
   "outputs": [
    {
     "output_type": "execute_result",
     "data": {
      "text/plain": [
       "0"
      ]
     },
     "metadata": {},
     "execution_count": 84
    }
   ],
   "source": [
    "df.duplicated().sum()\n",
    "# df.duplicated(['Price','Sqm']).sum()"
   ]
  },
  {
   "cell_type": "code",
   "execution_count": 88,
   "metadata": {},
   "outputs": [],
   "source": [
    "df.dropna(inplace = True)"
   ]
  },
  {
   "cell_type": "code",
   "execution_count": 89,
   "metadata": {},
   "outputs": [
    {
     "output_type": "execute_result",
     "data": {
      "text/plain": [
       "index           0\n",
       "Price           0\n",
       "Sqm             0\n",
       "PSM             0\n",
       "Floor_Level     0\n",
       "Built_Year      0\n",
       "Bedroom         0\n",
       "Bathroom        0\n",
       "Sub_district    0\n",
       "District        0\n",
       "City            0\n",
       "dtype: int64"
      ]
     },
     "metadata": {},
     "execution_count": 89
    }
   ],
   "source": [
    "df.isnull().sum()"
   ]
  },
  {
   "cell_type": "code",
   "execution_count": 90,
   "metadata": {},
   "outputs": [
    {
     "output_type": "execute_result",
     "data": {
      "text/plain": [
       "<bound method DataFrame.info of        index       Price  Sqm       PSM  Floor_Level  Built_Year  Bedroom  \\\n",
       "0          1     1540000   30   51333.0            5        2019      1.0   \n",
       "1          2   2,500,000   32   78125.0            6        2022      1.0   \n",
       "2          3  14,720,000   52  283077.0           12        2012      1.0   \n",
       "3          4   1,490,000   30   49667.0            8        2013      0.5   \n",
       "4          5   5,600,000   40  140000.0           12        2013      1.0   \n",
       "...      ...         ...  ...       ...          ...         ...      ...   \n",
       "20064  20065   4,290,000   49   87551.0           12        1999      1.0   \n",
       "20065  20066   3,590,000   50   72525.0           21        2013      1.0   \n",
       "20066  20067   6,200,000   46  135667.0           28        2012      1.0   \n",
       "20067  20068   1,890,000   26   72692.0            7        2017      1.0   \n",
       "20068  20069   2,600,000   30   86667.0            3        2014      1.0   \n",
       "\n",
       "       Bathroom Sub_district District City  \n",
       "0           1.0       104203     1042   10  \n",
       "1           1.0       101505     1015   10  \n",
       "2           1.0       103302     1033   10  \n",
       "3           1.0       101701     1017   10  \n",
       "4           1.0       103303     1033   10  \n",
       "...         ...          ...      ...  ...  \n",
       "20064       1.0       102802     1028   10  \n",
       "20065       1.0       103801     1030   10  \n",
       "20066       1.0       101401     1014   10  \n",
       "20067       1.0            0     1041   10  \n",
       "20068       1.0            0     1050   10  \n",
       "\n",
       "[19729 rows x 11 columns]>"
      ]
     },
     "metadata": {},
     "execution_count": 90
    }
   ],
   "source": [
    "df.info"
   ]
  },
  {
   "cell_type": "code",
   "execution_count": 91,
   "metadata": {},
   "outputs": [
    {
     "output_type": "stream",
     "name": "stdout",
     "text": [
      "<class 'pandas.core.frame.DataFrame'>\nInt64Index: 19729 entries, 0 to 20068\nData columns (total 11 columns):\nindex           19729 non-null int64\nPrice           19729 non-null object\nSqm             19729 non-null int64\nPSM             19729 non-null float64\nFloor_Level     19729 non-null int64\nBuilt_Year      19729 non-null int64\nBedroom         19729 non-null float64\nBathroom        19729 non-null float64\nSub_district    19729 non-null object\nDistrict        19729 non-null object\nCity            19729 non-null object\ndtypes: float64(3), int64(4), object(4)\nmemory usage: 1.8+ MB\n"
     ]
    }
   ],
   "source": [
    "df.info()"
   ]
  },
  {
   "cell_type": "code",
   "execution_count": 92,
   "metadata": {},
   "outputs": [],
   "source": [
    "df.to_excel(\"output.xlsx\", index=False)  "
   ]
  },
  {
   "cell_type": "code",
   "execution_count": null,
   "metadata": {},
   "outputs": [],
   "source": [
    "df.info()"
   ]
  },
  {
   "cell_type": "code",
   "execution_count": null,
   "metadata": {},
   "outputs": [],
   "source": [
    "df.info"
   ]
  },
  {
   "cell_type": "code",
   "execution_count": null,
   "metadata": {},
   "outputs": [],
   "source": [
    "df.dropna(inplace = True)"
   ]
  },
  {
   "cell_type": "code",
   "execution_count": null,
   "metadata": {},
   "outputs": [],
   "source": [
    "df.info"
   ]
  },
  {
   "cell_type": "code",
   "execution_count": null,
   "metadata": {},
   "outputs": [],
   "source": [
    "df.isnull().sum()"
   ]
  },
  {
   "cell_type": "code",
   "execution_count": null,
   "metadata": {},
   "outputs": [],
   "source": []
  }
 ]
}